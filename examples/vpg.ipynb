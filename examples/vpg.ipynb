{
 "cells": [
  {
   "cell_type": "code",
   "execution_count": 2,
   "metadata": {},
   "outputs": [],
   "source": [
    "import gym\n",
    "import torch\n",
    "import os\n",
    "from memento import vpg_train"
   ]
  },
  {
   "cell_type": "code",
   "execution_count": 3,
   "metadata": {},
   "outputs": [],
   "source": [
    "env_args = \"BeamRider-ram-v0\"\n",
    "env_func = lambda : gym.make(env_args)"
   ]
  },
  {
   "cell_type": "code",
   "execution_count": null,
   "metadata": {},
   "outputs": [
    {
     "name": "stdout",
     "output_type": "stream",
     "text": [
      "Warning: Log dir /home/nl7/work/distMultiABM/scratch/vpg/BeamRider-ram-v0_vpg already exists! Storing info there anyway.\n",
      "\u001b[32;1mLogging data to /home/nl7/work/distMultiABM/scratch/vpg/BeamRider-ram-v0_vpg/progress.txt\u001b[0m\n",
      "\u001b[32;1mEnvironment dimensions: observation=128, action=9\u001b[0m\n",
      "\u001b[32;1mBuffer shapes: {'observation': (4000, 128), 'action': (4000,), 'advantage': (4000,), 'reward': (4000,), 'value': (4000,), 'logProb': (4000,)}\u001b[0m\n",
      "\u001b[32;1mBuffer shapes: {'observation': (4000, 128), 'action': (4000,), 'advantage': (4000,), 'reward': (4000,), 'value': (4000,), 'logProb': (4000,)}\u001b[0m\n",
      "---------------------------------------\n",
      "|             Epoch |               0 |\n",
      "|      AverageEpRet |             198 |\n",
      "|          StdEpRet |             141 |\n",
      "|          MaxEpRet |             352 |\n",
      "|          MinEpRet |               0 |\n",
      "|             EpLen |           1e+03 |\n",
      "|      AverageVVals |          -0.472 |\n",
      "|          StdVVals |           0.235 |\n",
      "|          MaxVVals |           0.578 |\n",
      "|          MinVVals |           -0.92 |\n",
      "| TotalEnvInteracts |           4e+03 |\n",
      "|            LossPi |          0.0868 |\n",
      "|             LossV |           0.278 |\n",
      "|       DeltaLossPi |         -0.0781 |\n",
      "|        DeltaLossV |           0.722 |\n",
      "|           Entropy |          0.0207 |\n",
      "|                KL |        -2.1e-08 |\n",
      "|              Time |            7.19 |\n",
      "---------------------------------------\n",
      "\u001b[32;1mBuffer shapes: {'observation': (4000, 128), 'action': (4000,), 'advantage': (4000,), 'reward': (4000,), 'value': (4000,), 'logProb': (4000,)}\u001b[0m\n",
      "---------------------------------------\n",
      "|             Epoch |               1 |\n",
      "|      AverageEpRet |               0 |\n",
      "|          StdEpRet |               0 |\n",
      "|          MaxEpRet |               0 |\n",
      "|          MinEpRet |               0 |\n",
      "|             EpLen |           1e+03 |\n",
      "|      AverageVVals |               1 |\n",
      "|          StdVVals |        5.96e-08 |\n",
      "|          MaxVVals |               1 |\n",
      "|          MinVVals |               1 |\n",
      "| TotalEnvInteracts |           8e+03 |\n",
      "|            LossPi |          0.0549 |\n",
      "|             LossV |               1 |\n",
      "|       DeltaLossPi |       -9.76e-07 |\n",
      "|        DeltaLossV |       -1.19e-07 |\n",
      "|           Entropy |           0.045 |\n",
      "|                KL |       -1.11e-07 |\n",
      "|              Time |            14.4 |\n",
      "---------------------------------------\n",
      "\u001b[32;1mBuffer shapes: {'observation': (4000, 128), 'action': (4000,), 'advantage': (4000,), 'reward': (4000,), 'value': (4000,), 'logProb': (4000,)}\u001b[0m\n",
      "---------------------------------------\n",
      "|             Epoch |               2 |\n",
      "|      AverageEpRet |               0 |\n",
      "|          StdEpRet |               0 |\n",
      "|          MaxEpRet |               0 |\n",
      "|          MinEpRet |               0 |\n",
      "|             EpLen |           1e+03 |\n",
      "|      AverageVVals |               1 |\n",
      "|          StdVVals |        1.19e-07 |\n",
      "|          MaxVVals |               1 |\n",
      "|          MinVVals |               1 |\n",
      "| TotalEnvInteracts |         1.2e+04 |\n",
      "|            LossPi |               0 |\n",
      "|             LossV |               1 |\n",
      "|       DeltaLossPi |               0 |\n",
      "|        DeltaLossV |       -1.73e-06 |\n",
      "|           Entropy |               0 |\n",
      "|                KL |               0 |\n",
      "|              Time |            21.6 |\n",
      "---------------------------------------\n",
      "\u001b[32;1mBuffer shapes: {'observation': (4000, 128), 'action': (4000,), 'advantage': (4000,), 'reward': (4000,), 'value': (4000,), 'logProb': (4000,)}\u001b[0m\n",
      "---------------------------------------\n",
      "|             Epoch |               3 |\n",
      "|      AverageEpRet |               0 |\n",
      "|          StdEpRet |               0 |\n",
      "|          MaxEpRet |               0 |\n",
      "|          MinEpRet |               0 |\n",
      "|             EpLen |           1e+03 |\n",
      "|      AverageVVals |               1 |\n",
      "|          StdVVals |        5.96e-08 |\n",
      "|          MaxVVals |               1 |\n",
      "|          MinVVals |               1 |\n",
      "| TotalEnvInteracts |         1.6e+04 |\n",
      "|            LossPi |               0 |\n",
      "|             LossV |               1 |\n",
      "|       DeltaLossPi |               0 |\n",
      "|        DeltaLossV |        2.03e-06 |\n",
      "|           Entropy |               0 |\n",
      "|                KL |               0 |\n",
      "|              Time |            28.9 |\n",
      "---------------------------------------\n",
      "\u001b[32;1mBuffer shapes: {'observation': (4000, 128), 'action': (4000,), 'advantage': (4000,), 'reward': (4000,), 'value': (4000,), 'logProb': (4000,)}\u001b[0m\n",
      "---------------------------------------\n",
      "|             Epoch |               4 |\n",
      "|      AverageEpRet |               0 |\n",
      "|          StdEpRet |               0 |\n",
      "|          MaxEpRet |               0 |\n",
      "|          MinEpRet |               0 |\n",
      "|             EpLen |           1e+03 |\n",
      "|      AverageVVals |              -1 |\n",
      "|          StdVVals |               0 |\n",
      "|          MaxVVals |              -1 |\n",
      "|          MinVVals |              -1 |\n",
      "| TotalEnvInteracts |           2e+04 |\n",
      "|            LossPi |               0 |\n",
      "|             LossV |               1 |\n",
      "|       DeltaLossPi |               0 |\n",
      "|        DeltaLossV |               0 |\n",
      "|           Entropy |               0 |\n",
      "|                KL |               0 |\n",
      "|              Time |              36 |\n",
      "---------------------------------------\n"
     ]
    }
   ],
   "source": [
    "device = torch.device(\"cuda:1\")\n",
    "logger_kwargs = dict(output_dir=os.path.join(os.getcwd(),env_args+\"_vpg\"))\n",
    "vpg_train(env_func, device=device, logger_kwargs=logger_kwargs, epochs=250, pi_lr=1e-2, vf_lr=1e-2)"
   ]
  },
  {
   "cell_type": "code",
   "execution_count": 7,
   "metadata": {},
   "outputs": [
    {
     "data": {
      "text/plain": [
       "(2, 2)"
      ]
     },
     "execution_count": 7,
     "metadata": {},
     "output_type": "execute_result"
    }
   ],
   "source": [
    "t = torch.Tensor([[1,2],[3,4]])\n",
    "tuple(t.shape)"
   ]
  },
  {
   "cell_type": "code",
   "execution_count": null,
   "metadata": {},
   "outputs": [],
   "source": [
    "env = env_func()"
   ]
  },
  {
   "cell_type": "code",
   "execution_count": 9,
   "metadata": {},
   "outputs": [],
   "source": [
    "obs, ep_ret, ep_len = env.reset(), 0, 0"
   ]
  },
  {
   "cell_type": "code",
   "execution_count": 6,
   "metadata": {},
   "outputs": [
    {
     "data": {
      "text/plain": [
       "(128,)"
      ]
     },
     "execution_count": 6,
     "metadata": {},
     "output_type": "execute_result"
    }
   ],
   "source": [
    "env.observation_space.shape"
   ]
  },
  {
   "cell_type": "code",
   "execution_count": 4,
   "metadata": {},
   "outputs": [],
   "source": [
    "from torch.distributions import Categorical"
   ]
  },
  {
   "cell_type": "code",
   "execution_count": 14,
   "metadata": {},
   "outputs": [],
   "source": [
    "logits = torch.randn((9, 4000))\n",
    "pdf = Categorical(logits = logits)\n",
    "act = torch.randn((4000))"
   ]
  },
  {
   "cell_type": "code",
   "execution_count": 15,
   "metadata": {},
   "outputs": [
    {
     "data": {
      "text/plain": [
       "torch.Size([9, 4000])"
      ]
     },
     "execution_count": 15,
     "metadata": {},
     "output_type": "execute_result"
    }
   ],
   "source": [
    "logits.shape"
   ]
  },
  {
   "cell_type": "code",
   "execution_count": 16,
   "metadata": {},
   "outputs": [
    {
     "ename": "RuntimeError",
     "evalue": "The size of tensor a (4000) must match the size of tensor b (9) at non-singleton dimension 0",
     "output_type": "error",
     "traceback": [
      "\u001b[0;31m---------------------------------------------------------------------------\u001b[0m",
      "\u001b[0;31mRuntimeError\u001b[0m                              Traceback (most recent call last)",
      "\u001b[0;32m<ipython-input-16-8c3e24fbcdab>\u001b[0m in \u001b[0;36m<module>\u001b[0;34m\u001b[0m\n\u001b[0;32m----> 1\u001b[0;31m \u001b[0mpdf\u001b[0m\u001b[0;34m.\u001b[0m\u001b[0mlog_prob\u001b[0m\u001b[0;34m(\u001b[0m\u001b[0mact\u001b[0m\u001b[0;34m)\u001b[0m\u001b[0;34m\u001b[0m\u001b[0;34m\u001b[0m\u001b[0m\n\u001b[0m",
      "\u001b[0;32m~/anaconda3/envs/rl/lib/python3.6/site-packages/torch/distributions/categorical.py\u001b[0m in \u001b[0;36mlog_prob\u001b[0;34m(self, value)\u001b[0m\n\u001b[1;32m    112\u001b[0m             \u001b[0mself\u001b[0m\u001b[0;34m.\u001b[0m\u001b[0m_validate_sample\u001b[0m\u001b[0;34m(\u001b[0m\u001b[0mvalue\u001b[0m\u001b[0;34m)\u001b[0m\u001b[0;34m\u001b[0m\u001b[0;34m\u001b[0m\u001b[0m\n\u001b[1;32m    113\u001b[0m         \u001b[0mvalue\u001b[0m \u001b[0;34m=\u001b[0m \u001b[0mvalue\u001b[0m\u001b[0;34m.\u001b[0m\u001b[0mlong\u001b[0m\u001b[0;34m(\u001b[0m\u001b[0;34m)\u001b[0m\u001b[0;34m.\u001b[0m\u001b[0munsqueeze\u001b[0m\u001b[0;34m(\u001b[0m\u001b[0;34m-\u001b[0m\u001b[0;36m1\u001b[0m\u001b[0;34m)\u001b[0m\u001b[0;34m\u001b[0m\u001b[0;34m\u001b[0m\u001b[0m\n\u001b[0;32m--> 114\u001b[0;31m         \u001b[0mvalue\u001b[0m\u001b[0;34m,\u001b[0m \u001b[0mlog_pmf\u001b[0m \u001b[0;34m=\u001b[0m \u001b[0mtorch\u001b[0m\u001b[0;34m.\u001b[0m\u001b[0mbroadcast_tensors\u001b[0m\u001b[0;34m(\u001b[0m\u001b[0mvalue\u001b[0m\u001b[0;34m,\u001b[0m \u001b[0mself\u001b[0m\u001b[0;34m.\u001b[0m\u001b[0mlogits\u001b[0m\u001b[0;34m)\u001b[0m\u001b[0;34m\u001b[0m\u001b[0;34m\u001b[0m\u001b[0m\n\u001b[0m\u001b[1;32m    115\u001b[0m         \u001b[0mvalue\u001b[0m \u001b[0;34m=\u001b[0m \u001b[0mvalue\u001b[0m\u001b[0;34m[\u001b[0m\u001b[0;34m...\u001b[0m\u001b[0;34m,\u001b[0m \u001b[0;34m:\u001b[0m\u001b[0;36m1\u001b[0m\u001b[0;34m]\u001b[0m\u001b[0;34m\u001b[0m\u001b[0;34m\u001b[0m\u001b[0m\n\u001b[1;32m    116\u001b[0m         \u001b[0;32mreturn\u001b[0m \u001b[0mlog_pmf\u001b[0m\u001b[0;34m.\u001b[0m\u001b[0mgather\u001b[0m\u001b[0;34m(\u001b[0m\u001b[0;34m-\u001b[0m\u001b[0;36m1\u001b[0m\u001b[0;34m,\u001b[0m \u001b[0mvalue\u001b[0m\u001b[0;34m)\u001b[0m\u001b[0;34m.\u001b[0m\u001b[0msqueeze\u001b[0m\u001b[0;34m(\u001b[0m\u001b[0;34m-\u001b[0m\u001b[0;36m1\u001b[0m\u001b[0;34m)\u001b[0m\u001b[0;34m\u001b[0m\u001b[0;34m\u001b[0m\u001b[0m\n",
      "\u001b[0;32m~/anaconda3/envs/rl/lib/python3.6/site-packages/torch/functional.py\u001b[0m in \u001b[0;36mbroadcast_tensors\u001b[0;34m(*tensors)\u001b[0m\n\u001b[1;32m     50\u001b[0m                 [0, 1, 2]])\n\u001b[1;32m     51\u001b[0m     \"\"\"\n\u001b[0;32m---> 52\u001b[0;31m     \u001b[0;32mreturn\u001b[0m \u001b[0mtorch\u001b[0m\u001b[0;34m.\u001b[0m\u001b[0m_C\u001b[0m\u001b[0;34m.\u001b[0m\u001b[0m_VariableFunctions\u001b[0m\u001b[0;34m.\u001b[0m\u001b[0mbroadcast_tensors\u001b[0m\u001b[0;34m(\u001b[0m\u001b[0mtensors\u001b[0m\u001b[0;34m)\u001b[0m\u001b[0;34m\u001b[0m\u001b[0;34m\u001b[0m\u001b[0m\n\u001b[0m\u001b[1;32m     53\u001b[0m \u001b[0;34m\u001b[0m\u001b[0m\n\u001b[1;32m     54\u001b[0m \u001b[0;34m\u001b[0m\u001b[0m\n",
      "\u001b[0;31mRuntimeError\u001b[0m: The size of tensor a (4000) must match the size of tensor b (9) at non-singleton dimension 0"
     ]
    }
   ],
   "source": [
    "pdf.log_prob(act)"
   ]
  },
  {
   "cell_type": "code",
   "execution_count": 12,
   "metadata": {},
   "outputs": [
    {
     "data": {
      "text/plain": [
       "tensor([  1.,   0.,   1.,   1.,   0.,   2.,  56.,  22.,   0.,   0.,   0.,   0.,\n",
       "          1., 131., 144., 244.,   1.,   0.,   0.,   0., 115.,   0., 224.,   0.,\n",
       "          0.,   0.,   0., 255., 255., 255., 255., 255., 255.,   0.,   0.,   0.,\n",
       "          0.,   0.,   0.,   0.,   0., 128.,   0.,   0.,   0.,   0.,   0.,   0.,\n",
       "          0., 128.,   0.,   0.,   0.,   0.,   0.,   0.,   0.,   0.,   0.,   0.,\n",
       "          0.,   0.,   0.,   0.,   0.,   0.,   0.,   0.,   0.,   0.,   0.,   0.,\n",
       "          0., 187., 187.,   0.,   0.,   0.,   0.,   0.,   0.,   0.,   0.,   3.,\n",
       "         15.,   0.,   0.,   0.,   0.,   0.,   0.,   0.,   0., 122.,   0.,   0.,\n",
       "          0.,   0.,   0.,   0.,   0.,   0.,   5.,   1., 255.,   0., 208.,   0.,\n",
       "         49., 242., 255.,   0.,   0., 255., 255., 255., 255., 255., 255., 255.,\n",
       "         86.,  66.,  32.,   0., 119., 242.,  43., 240.])"
      ]
     },
     "execution_count": 12,
     "metadata": {},
     "output_type": "execute_result"
    }
   ],
   "source": [
    "torch.as_tensor(obs, dtype=torch.float32)"
   ]
  },
  {
   "cell_type": "code",
   "execution_count": 21,
   "metadata": {},
   "outputs": [
    {
     "data": {
      "text/plain": [
       "tensor([248], dtype=torch.uint8)"
      ]
     },
     "execution_count": 21,
     "metadata": {},
     "output_type": "execute_result"
    }
   ],
   "source": [
    "torch.ByteTensor(1)"
   ]
  },
  {
   "cell_type": "code",
   "execution_count": 23,
   "metadata": {},
   "outputs": [
    {
     "ename": "RuntimeError",
     "evalue": "Expected either a THGeneratorState of size 5048 or a THGeneratorStateNew of size 5056 but found the input RNG state size to be 1",
     "output_type": "error",
     "traceback": [
      "\u001b[0;31m---------------------------------------------------------------------------\u001b[0m",
      "\u001b[0;31mRuntimeError\u001b[0m                              Traceback (most recent call last)",
      "\u001b[0;32m<ipython-input-23-ee6c82805f20>\u001b[0m in \u001b[0;36m<module>\u001b[0;34m\u001b[0m\n\u001b[1;32m      1\u001b[0m \u001b[0mtorch\u001b[0m\u001b[0;34m.\u001b[0m\u001b[0mmanual_seed\u001b[0m\u001b[0;34m(\u001b[0m\u001b[0;36m1234\u001b[0m\u001b[0;34m)\u001b[0m\u001b[0;34m\u001b[0m\u001b[0;34m\u001b[0m\u001b[0m\n\u001b[0;32m----> 2\u001b[0;31m \u001b[0mtorch\u001b[0m\u001b[0;34m.\u001b[0m\u001b[0mrandom\u001b[0m\u001b[0;34m.\u001b[0m\u001b[0mset_rng_state\u001b[0m\u001b[0;34m(\u001b[0m\u001b[0mtorch\u001b[0m\u001b[0;34m.\u001b[0m\u001b[0mByteTensor\u001b[0m\u001b[0;34m(\u001b[0m\u001b[0;36m1\u001b[0m\u001b[0;34m)\u001b[0m\u001b[0;34m)\u001b[0m\u001b[0;34m\u001b[0m\u001b[0;34m\u001b[0m\u001b[0m\n\u001b[0m\u001b[1;32m      3\u001b[0m \u001b[0maction_dm\u001b[0m \u001b[0;34m=\u001b[0m \u001b[0;36m2\u001b[0m\u001b[0;34m\u001b[0m\u001b[0;34m\u001b[0m\u001b[0m\n",
      "\u001b[0;32m~/anaconda3/envs/rl/lib/python3.6/site-packages/torch/random.py\u001b[0m in \u001b[0;36mset_rng_state\u001b[0;34m(new_state)\u001b[0m\n\u001b[1;32m     11\u001b[0m         \u001b[0mnew_state\u001b[0m \u001b[0;34m(\u001b[0m\u001b[0mtorch\u001b[0m\u001b[0;34m.\u001b[0m\u001b[0mByteTensor\u001b[0m\u001b[0;34m)\u001b[0m\u001b[0;34m:\u001b[0m \u001b[0mThe\u001b[0m \u001b[0mdesired\u001b[0m \u001b[0mstate\u001b[0m\u001b[0;34m\u001b[0m\u001b[0;34m\u001b[0m\u001b[0m\n\u001b[1;32m     12\u001b[0m     \"\"\"\n\u001b[0;32m---> 13\u001b[0;31m     \u001b[0mdefault_generator\u001b[0m\u001b[0;34m.\u001b[0m\u001b[0mset_state\u001b[0m\u001b[0;34m(\u001b[0m\u001b[0mnew_state\u001b[0m\u001b[0;34m)\u001b[0m\u001b[0;34m\u001b[0m\u001b[0;34m\u001b[0m\u001b[0m\n\u001b[0m\u001b[1;32m     14\u001b[0m \u001b[0;34m\u001b[0m\u001b[0m\n\u001b[1;32m     15\u001b[0m \u001b[0;34m\u001b[0m\u001b[0m\n",
      "\u001b[0;31mRuntimeError\u001b[0m: Expected either a THGeneratorState of size 5048 or a THGeneratorStateNew of size 5056 but found the input RNG state size to be 1"
     ]
    }
   ],
   "source": [
    "torch.manual_seed(1234)\n",
    "torch.random.set_rng_state(torch.ByteTensor(1))\n",
    "action_dm = 2"
   ]
  },
  {
   "cell_type": "code",
   "execution_count": 2,
   "metadata": {},
   "outputs": [
    {
     "data": {
      "text/plain": [
       "Net(\n",
       "  (fc1): Linear(in_features=256, out_features=256, bias=True)\n",
       "  (fc2): Linear(in_features=256, out_features=5, bias=True)\n",
       ")"
      ]
     },
     "execution_count": 2,
     "metadata": {},
     "output_type": "execute_result"
    }
   ],
   "source": [
    "dev_num = 0\n",
    "device = torch.device(\"cuda:%d\" %dev_num if torch.cuda.is_available() else 'cpu')\n",
    "state_dim = 256\n",
    "action_dim = 5\n",
    "net = Net(state_dim, action_dim)\n",
    "net.to(device)"
   ]
  },
  {
   "cell_type": "code",
   "execution_count": 3,
   "metadata": {},
   "outputs": [
    {
     "data": {
      "text/plain": [
       "VanillaPolicy(\n",
       "  (net): Net(\n",
       "    (fc1): Linear(in_features=256, out_features=256, bias=True)\n",
       "    (fc2): Linear(in_features=256, out_features=5, bias=True)\n",
       "  )\n",
       "  (log_softmax): LogSoftmax()\n",
       ")"
      ]
     },
     "execution_count": 3,
     "metadata": {},
     "output_type": "execute_result"
    }
   ],
   "source": [
    "vpg = VanillaPolicy(net, action_dim, device)\n",
    "vpg.to(device)"
   ]
  },
  {
   "cell_type": "code",
   "execution_count": 4,
   "metadata": {},
   "outputs": [],
   "source": [
    "batch_size = 4\n",
    "states = torch.randn((batch_size, state_dim))\n",
    "states = states.to(device)\n",
    "actions = torch.randint(low=0, high=action_dim, size=(batch_size,))\n",
    "# actions = actions.type(torch.FloatTensor)\n",
    "actions = actions.to(device)"
   ]
  },
  {
   "cell_type": "code",
   "execution_count": 5,
   "metadata": {},
   "outputs": [
    {
     "name": "stdout",
     "output_type": "stream",
     "text": [
      "net_output: torch.Size([4, 5])\n",
      "log_prob_batch: torch.Size([4, 5])\n",
      "pi: torch.Size([4])\n",
      "one_hot: torch.Size([4, 5])\n"
     ]
    },
    {
     "ename": "RuntimeError",
     "evalue": "expected device cpu and dtype Float but got device cuda:0 and dtype Float",
     "output_type": "error",
     "traceback": [
      "\u001b[0;31m---------------------------------------------------------------------------\u001b[0m",
      "\u001b[0;31mRuntimeError\u001b[0m                              Traceback (most recent call last)",
      "\u001b[0;32m<ipython-input-5-a4f82d3e7007>\u001b[0m in \u001b[0;36m<module>\u001b[0;34m\u001b[0m\n\u001b[0;32m----> 1\u001b[0;31m \u001b[0mvpg\u001b[0m\u001b[0;34m(\u001b[0m\u001b[0mstates\u001b[0m\u001b[0;34m,\u001b[0m \u001b[0mactions\u001b[0m\u001b[0;34m)\u001b[0m\u001b[0;34m\u001b[0m\u001b[0;34m\u001b[0m\u001b[0m\n\u001b[0m",
      "\u001b[0;32m~/anaconda3/envs/svpg/lib/python3.7/site-packages/torch/nn/modules/module.py\u001b[0m in \u001b[0;36m__call__\u001b[0;34m(self, *input, **kwargs)\u001b[0m\n\u001b[1;32m    545\u001b[0m             \u001b[0mresult\u001b[0m \u001b[0;34m=\u001b[0m \u001b[0mself\u001b[0m\u001b[0;34m.\u001b[0m\u001b[0m_slow_forward\u001b[0m\u001b[0;34m(\u001b[0m\u001b[0;34m*\u001b[0m\u001b[0minput\u001b[0m\u001b[0;34m,\u001b[0m \u001b[0;34m**\u001b[0m\u001b[0mkwargs\u001b[0m\u001b[0;34m)\u001b[0m\u001b[0;34m\u001b[0m\u001b[0;34m\u001b[0m\u001b[0m\n\u001b[1;32m    546\u001b[0m         \u001b[0;32melse\u001b[0m\u001b[0;34m:\u001b[0m\u001b[0;34m\u001b[0m\u001b[0;34m\u001b[0m\u001b[0m\n\u001b[0;32m--> 547\u001b[0;31m             \u001b[0mresult\u001b[0m \u001b[0;34m=\u001b[0m \u001b[0mself\u001b[0m\u001b[0;34m.\u001b[0m\u001b[0mforward\u001b[0m\u001b[0;34m(\u001b[0m\u001b[0;34m*\u001b[0m\u001b[0minput\u001b[0m\u001b[0;34m,\u001b[0m \u001b[0;34m**\u001b[0m\u001b[0mkwargs\u001b[0m\u001b[0;34m)\u001b[0m\u001b[0;34m\u001b[0m\u001b[0;34m\u001b[0m\u001b[0m\n\u001b[0m\u001b[1;32m    548\u001b[0m         \u001b[0;32mfor\u001b[0m \u001b[0mhook\u001b[0m \u001b[0;32min\u001b[0m \u001b[0mself\u001b[0m\u001b[0;34m.\u001b[0m\u001b[0m_forward_hooks\u001b[0m\u001b[0;34m.\u001b[0m\u001b[0mvalues\u001b[0m\u001b[0;34m(\u001b[0m\u001b[0;34m)\u001b[0m\u001b[0;34m:\u001b[0m\u001b[0;34m\u001b[0m\u001b[0;34m\u001b[0m\u001b[0m\n\u001b[1;32m    549\u001b[0m             \u001b[0mhook_result\u001b[0m \u001b[0;34m=\u001b[0m \u001b[0mhook\u001b[0m\u001b[0;34m(\u001b[0m\u001b[0mself\u001b[0m\u001b[0;34m,\u001b[0m \u001b[0minput\u001b[0m\u001b[0;34m,\u001b[0m \u001b[0mresult\u001b[0m\u001b[0;34m)\u001b[0m\u001b[0;34m\u001b[0m\u001b[0;34m\u001b[0m\u001b[0m\n",
      "\u001b[0;32m~/work/distMultiABM/scratch/vpg/rl_utils.py\u001b[0m in \u001b[0;36mforward\u001b[0;34m(self, states, actions)\u001b[0m\n\u001b[1;32m     80\u001b[0m     \u001b[0;32mdef\u001b[0m \u001b[0mforward\u001b[0m\u001b[0;34m(\u001b[0m\u001b[0mself\u001b[0m\u001b[0;34m,\u001b[0m \u001b[0mstates\u001b[0m\u001b[0;34m,\u001b[0m \u001b[0mactions\u001b[0m\u001b[0;34m)\u001b[0m\u001b[0;34m:\u001b[0m\u001b[0;34m\u001b[0m\u001b[0;34m\u001b[0m\u001b[0m\n\u001b[1;32m     81\u001b[0m         \u001b[0;32mif\u001b[0m \u001b[0mself\u001b[0m\u001b[0;34m.\u001b[0m\u001b[0mtype\u001b[0m \u001b[0;34m==\u001b[0m \u001b[0;34m'categorical'\u001b[0m\u001b[0;34m:\u001b[0m\u001b[0;34m\u001b[0m\u001b[0;34m\u001b[0m\u001b[0m\n\u001b[0;32m---> 82\u001b[0;31m             \u001b[0mpi\u001b[0m\u001b[0;34m,\u001b[0m \u001b[0mlog_pi\u001b[0m\u001b[0;34m,\u001b[0m \u001b[0mlog_prob\u001b[0m \u001b[0;34m=\u001b[0m \u001b[0mself\u001b[0m\u001b[0;34m.\u001b[0m\u001b[0m_estimate_categorical\u001b[0m\u001b[0;34m(\u001b[0m\u001b[0mstates\u001b[0m\u001b[0;34m,\u001b[0m \u001b[0mactions\u001b[0m\u001b[0;34m)\u001b[0m\u001b[0;34m\u001b[0m\u001b[0;34m\u001b[0m\u001b[0m\n\u001b[0m\u001b[1;32m     83\u001b[0m             \u001b[0;32mreturn\u001b[0m \u001b[0mpi\u001b[0m\u001b[0;34m,\u001b[0m \u001b[0mlog_pi\u001b[0m\u001b[0;34m,\u001b[0m \u001b[0mlog_prob\u001b[0m\u001b[0;34m\u001b[0m\u001b[0;34m\u001b[0m\u001b[0m\n\u001b[1;32m     84\u001b[0m         \u001b[0;32melif\u001b[0m \u001b[0mself\u001b[0m\u001b[0;34m.\u001b[0m\u001b[0mtype\u001b[0m \u001b[0;34m==\u001b[0m \u001b[0;34m'gaussian'\u001b[0m\u001b[0;34m:\u001b[0m\u001b[0;34m\u001b[0m\u001b[0;34m\u001b[0m\u001b[0m\n",
      "\u001b[0;32m~/work/distMultiABM/scratch/vpg/rl_utils.py\u001b[0m in \u001b[0;36m_estimate_categorical\u001b[0;34m(self, states, actions)\u001b[0m\n\u001b[1;32m     96\u001b[0m         \u001b[0mprint\u001b[0m\u001b[0;34m(\u001b[0m\u001b[0;34m\"one_hot: {}\"\u001b[0m\u001b[0;34m.\u001b[0m\u001b[0mformat\u001b[0m\u001b[0;34m(\u001b[0m\u001b[0mone_hot\u001b[0m\u001b[0;34m.\u001b[0m\u001b[0mshape\u001b[0m\u001b[0;34m)\u001b[0m\u001b[0;34m)\u001b[0m\u001b[0;34m\u001b[0m\u001b[0;34m\u001b[0m\u001b[0m\n\u001b[1;32m     97\u001b[0m         \u001b[0mone_hot\u001b[0m \u001b[0;34m=\u001b[0m \u001b[0mone_hot\u001b[0m\u001b[0;34m.\u001b[0m\u001b[0mto\u001b[0m\u001b[0;34m(\u001b[0m\u001b[0mself\u001b[0m\u001b[0;34m.\u001b[0m\u001b[0mdevice\u001b[0m\u001b[0;34m)\u001b[0m\u001b[0;34m\u001b[0m\u001b[0;34m\u001b[0m\u001b[0m\n\u001b[0;32m---> 98\u001b[0;31m         \u001b[0mlog_prob\u001b[0m \u001b[0;34m=\u001b[0m \u001b[0mtorch\u001b[0m\u001b[0;34m.\u001b[0m\u001b[0msum\u001b[0m\u001b[0;34m(\u001b[0m\u001b[0mone_hot\u001b[0m\u001b[0;34m.\u001b[0m\u001b[0mtype\u001b[0m\u001b[0;34m(\u001b[0m\u001b[0mtorch\u001b[0m\u001b[0;34m.\u001b[0m\u001b[0mFloatTensor\u001b[0m\u001b[0;34m)\u001b[0m \u001b[0;34m*\u001b[0m \u001b[0mlog_prob_batch\u001b[0m\u001b[0;34m,\u001b[0m \u001b[0mdim\u001b[0m\u001b[0;34m=\u001b[0m\u001b[0;36m1\u001b[0m\u001b[0;34m)\u001b[0m\u001b[0;34m\u001b[0m\u001b[0;34m\u001b[0m\u001b[0m\n\u001b[0m\u001b[1;32m     99\u001b[0m         \u001b[0mprint\u001b[0m\u001b[0;34m(\u001b[0m\u001b[0;34m\"log_prob: {}\"\u001b[0m\u001b[0;34m.\u001b[0m\u001b[0mformat\u001b[0m\u001b[0;34m(\u001b[0m\u001b[0mlog_prob\u001b[0m\u001b[0;34m.\u001b[0m\u001b[0mshape\u001b[0m\u001b[0;34m)\u001b[0m\u001b[0;34m)\u001b[0m\u001b[0;34m\u001b[0m\u001b[0;34m\u001b[0m\u001b[0m\n\u001b[1;32m    100\u001b[0m         \u001b[0mone_hot\u001b[0m \u001b[0;34m=\u001b[0m \u001b[0mF\u001b[0m\u001b[0;34m.\u001b[0m\u001b[0mone_hot\u001b[0m\u001b[0;34m(\u001b[0m\u001b[0mpi\u001b[0m\u001b[0;34m,\u001b[0m \u001b[0mnum_classes\u001b[0m\u001b[0;34m=\u001b[0m\u001b[0mself\u001b[0m\u001b[0;34m.\u001b[0m\u001b[0maction_dim\u001b[0m\u001b[0;34m)\u001b[0m\u001b[0;34m\u001b[0m\u001b[0;34m\u001b[0m\u001b[0m\n",
      "\u001b[0;31mRuntimeError\u001b[0m: expected device cpu and dtype Float but got device cuda:0 and dtype Float"
     ]
    }
   ],
   "source": [
    "vpg(states, actions)"
   ]
  },
  {
   "cell_type": "code",
   "execution_count": 7,
   "metadata": {
    "collapsed": true,
    "jupyter": {
     "outputs_hidden": true
    }
   },
   "outputs": [
    {
     "name": "stdout",
     "output_type": "stream",
     "text": [
      "Help on class FloatStorage in module torch:\n",
      "\n",
      "class FloatStorage(torch._C.FloatStorageBase, torch.storage._StorageBase)\n",
      " |  Method resolution order:\n",
      " |      FloatStorage\n",
      " |      torch._C.FloatStorageBase\n",
      " |      torch.storage._StorageBase\n",
      " |      builtins.object\n",
      " |  \n",
      " |  Data descriptors defined here:\n",
      " |  \n",
      " |  __dict__\n",
      " |      dictionary for instance variables (if defined)\n",
      " |  \n",
      " |  __weakref__\n",
      " |      list of weak references to the object (if defined)\n",
      " |  \n",
      " |  ----------------------------------------------------------------------\n",
      " |  Methods inherited from torch._C.FloatStorageBase:\n",
      " |  \n",
      " |  __delitem__(self, key, /)\n",
      " |      Delete self[key].\n",
      " |  \n",
      " |  __getitem__(self, key, /)\n",
      " |      Return self[key].\n",
      " |  \n",
      " |  __len__(self, /)\n",
      " |      Return len(self).\n",
      " |  \n",
      " |  __setitem__(self, key, value, /)\n",
      " |      Set self[key] to value.\n",
      " |  \n",
      " |  copy_(...)\n",
      " |  \n",
      " |  data_ptr(...)\n",
      " |  \n",
      " |  element_size(...)\n",
      " |  \n",
      " |  fill_(...)\n",
      " |  \n",
      " |  is_pinned(...)\n",
      " |  \n",
      " |  is_shared(...)\n",
      " |  \n",
      " |  new(...)\n",
      " |  \n",
      " |  resize_(...)\n",
      " |  \n",
      " |  size(...)\n",
      " |  \n",
      " |  ----------------------------------------------------------------------\n",
      " |  Static methods inherited from torch._C.FloatStorageBase:\n",
      " |  \n",
      " |  __new__(*args, **kwargs) from builtins.type\n",
      " |      Create and return a new object.  See help(type) for accurate signature.\n",
      " |  \n",
      " |  from_buffer(...)\n",
      " |  \n",
      " |  from_file(...)\n",
      " |      from_file(filename, shared=False, size=0) -> Storage\n",
      " |      \n",
      " |      If `shared` is `True`, then memory is shared between all processes.\n",
      " |      All changes are written to the file. If `shared` is `False`, then the changes on\n",
      " |      the storage do not affect the file.\n",
      " |      \n",
      " |      `size` is the number of elements in the storage. If `shared` is `False`,\n",
      " |      then the file must contain at least `size * sizeof(Type)` bytes\n",
      " |      (`Type` is the type of storage). If `shared` is `True` the file will be\n",
      " |      created if needed.\n",
      " |      \n",
      " |      Args:\n",
      " |          filename (str): file name to map\n",
      " |          shared (bool): whether to share memory\n",
      " |          size (int): number of elements in the storage\n",
      " |  \n",
      " |  ----------------------------------------------------------------------\n",
      " |  Data descriptors inherited from torch._C.FloatStorageBase:\n",
      " |  \n",
      " |  device\n",
      " |  \n",
      " |  dtype\n",
      " |  \n",
      " |  ----------------------------------------------------------------------\n",
      " |  Methods inherited from torch.storage._StorageBase:\n",
      " |  \n",
      " |  __copy__(self)\n",
      " |  \n",
      " |  __deepcopy__(self, memo)\n",
      " |  \n",
      " |  __iter__(self)\n",
      " |  \n",
      " |  __reduce__(self)\n",
      " |      Helper for pickle.\n",
      " |  \n",
      " |  __repr__(self)\n",
      " |      Return repr(self).\n",
      " |  \n",
      " |  __sizeof__(self)\n",
      " |      Size of object in memory, in bytes.\n",
      " |  \n",
      " |  __str__(self)\n",
      " |      Return str(self).\n",
      " |  \n",
      " |  bfloat16(self)\n",
      " |      Casts this storage to bfloat16 type\n",
      " |  \n",
      " |  bool(self)\n",
      " |      Casts this storage to bool type\n",
      " |  \n",
      " |  byte(self)\n",
      " |      Casts this storage to byte type\n",
      " |  \n",
      " |  char(self)\n",
      " |      Casts this storage to char type\n",
      " |  \n",
      " |  clone(self)\n",
      " |      Returns a copy of this storage\n",
      " |  \n",
      " |  cpu(self)\n",
      " |      Returns a CPU copy of this storage if it's not already on the CPU\n",
      " |  \n",
      " |  cuda = _cuda(self, device=None, non_blocking=False, **kwargs)\n",
      " |      Returns a copy of this object in CUDA memory.\n",
      " |      \n",
      " |      If this object is already in CUDA memory and on the correct device, then\n",
      " |      no copy is performed and the original object is returned.\n",
      " |      \n",
      " |      Args:\n",
      " |          device (int): The destination GPU id. Defaults to the current device.\n",
      " |          non_blocking (bool): If ``True`` and the source is in pinned memory,\n",
      " |              the copy will be asynchronous with respect to the host. Otherwise,\n",
      " |              the argument has no effect.\n",
      " |          **kwargs: For compatibility, may contain the key ``async`` in place of\n",
      " |              the ``non_blocking`` argument.\n",
      " |  \n",
      " |  double(self)\n",
      " |      Casts this storage to double type\n",
      " |  \n",
      " |  float(self)\n",
      " |      Casts this storage to float type\n",
      " |  \n",
      " |  half(self)\n",
      " |      Casts this storage to half type\n",
      " |  \n",
      " |  int(self)\n",
      " |      Casts this storage to int type\n",
      " |  \n",
      " |  long(self)\n",
      " |      Casts this storage to long type\n",
      " |  \n",
      " |  pin_memory(self)\n",
      " |      Copies the storage to pinned memory, if it's not already pinned.\n",
      " |  \n",
      " |  share_memory_(self)\n",
      " |      Moves the storage to shared memory.\n",
      " |      \n",
      " |      This is a no-op for storages already in shared memory and for CUDA\n",
      " |      storages, which do not need to be moved for sharing across processes.\n",
      " |      Storages in shared memory cannot be resized.\n",
      " |      \n",
      " |      Returns: self\n",
      " |  \n",
      " |  short(self)\n",
      " |      Casts this storage to short type\n",
      " |  \n",
      " |  tolist(self)\n",
      " |      Returns a list containing the elements of this storage\n",
      " |  \n",
      " |  type = _type(self, dtype=None, non_blocking=False, **kwargs)\n",
      " |      Returns the type if `dtype` is not provided, else casts this object to\n",
      " |      the specified type.\n",
      " |      \n",
      " |      If this is already of the correct type, no copy is performed and the\n",
      " |      original object is returned.\n",
      " |      \n",
      " |      Args:\n",
      " |          dtype (type or string): The desired type\n",
      " |          non_blocking (bool): If ``True``, and the source is in pinned memory\n",
      " |              and destination is on the GPU or vice versa, the copy is performed\n",
      " |              asynchronously with respect to the host. Otherwise, the argument\n",
      " |              has no effect.\n",
      " |          **kwargs: For compatibility, may contain the key ``async`` in place of\n",
      " |              the ``non_blocking`` argument. The ``async`` arg is deprecated.\n",
      " |  \n",
      " |  ----------------------------------------------------------------------\n",
      " |  Data and other attributes inherited from torch.storage._StorageBase:\n",
      " |  \n",
      " |  is_cuda = False\n",
      " |  \n",
      " |  is_sparse = False\n",
      "\n"
     ]
    }
   ],
   "source": [
    "help(torch.FloatStorage)"
   ]
  },
  {
   "cell_type": "code",
   "execution_count": null,
   "metadata": {},
   "outputs": [],
   "source": []
  }
 ],
 "metadata": {
  "kernelspec": {
   "display_name": "Python 3",
   "language": "python",
   "name": "python3"
  },
  "language_info": {
   "codemirror_mode": {
    "name": "ipython",
    "version": 3
   },
   "file_extension": ".py",
   "mimetype": "text/x-python",
   "name": "python",
   "nbconvert_exporter": "python",
   "pygments_lexer": "ipython3",
   "version": "3.6.10"
  }
 },
 "nbformat": 4,
 "nbformat_minor": 4
}
